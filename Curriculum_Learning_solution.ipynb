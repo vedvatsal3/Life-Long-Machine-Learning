{
  "cells": [
    {
      "cell_type": "markdown",
      "metadata": {
        "id": "view-in-github",
        "colab_type": "text"
      },
      "source": [
        "<a href=\"https://colab.research.google.com/github/vedvatsal3/Life-Long-Machine-Learning/blob/main/Curriculum_Learning_solution.ipynb\" target=\"_parent\"><img src=\"https://colab.research.google.com/assets/colab-badge.svg\" alt=\"Open In Colab\"/></a>"
      ]
    },
    {
      "cell_type": "markdown",
      "metadata": {
        "id": "HugbEksp-3bj"
      },
      "source": [
        "## Curriculum Learning\n",
        "\n",
        "In this tutorial, we will explore various Curriculum Learning strategies, as discussed in Lecture []. Traditionally, neural networks are trained on entire datasets using mini-batch updates. However, in this notebook, we take a different approach by dividing the dataset into smaller segments or bins of data. We will analyze the model's performance as it progressively trains on these bins for certain epochs until it has processed all the bins. Such a training paradigm has shown to reduce the training time complexity in manifolds as well as assisting the model to convergae better as can be seen in the figure below.\n",
        "<p align=\"center\">\n",
        "<img src=\"loss_curve.png\" alt=\"\"/>\n",
        "</p>\n",
        "\n",
        "So our final goal of this notebook would be achieve such as loss curve at the end of the training cycle.\n",
        "\n",
        "As part of this notebook, we will try to replicate the observations as presented in one of the pioneering works in Curriculum learning by [Yoshua Bengio](https://dl.acm.org/doi/pdf/10.1145/1553374.1553380). We will closely follow the training setup discussed in this work where the authors try to train a language model with Wiki Text dataset in a Curriculum fashion. So, it would be highly recommended to first go through this paper and then try to solve this notebook.\n",
        "\n",
        "The notebook will broadly be divided into three main parts:\n",
        "- Implement curriculum learning with a simple language model on textual data\n",
        "- Investigate the implications behind anti-curriculum learning strategy.\n",
        "- Finally, we explore the efficacy of LSTMs to generate texts in curriculum fashion.\n",
        "\n",
        "\n"
      ]
    },
    {
      "cell_type": "markdown",
      "metadata": {
        "id": "k3cLqtSA-3bl"
      },
      "source": [
        "Let us begin with the installing the necessary libraries"
      ]
    },
    {
      "cell_type": "code",
      "execution_count": null,
      "metadata": {
        "colab": {
          "base_uri": "https://localhost:8080/",
          "height": 1000
        },
        "id": "y8IaiAfqnzzc",
        "outputId": "2fe9c8ee-2188-4537-9011-de358518023d",
        "pycharm": {
          "is_executing": true
        }
      },
      "outputs": [
        {
          "output_type": "stream",
          "name": "stdout",
          "text": [
            "Collecting torch==2.3.0\n",
            "  Downloading torch-2.3.0-cp311-cp311-manylinux1_x86_64.whl.metadata (26 kB)\n",
            "Collecting torchtext==0.18.0\n",
            "  Downloading torchtext-0.18.0-cp311-cp311-manylinux1_x86_64.whl.metadata (7.9 kB)\n",
            "Requirement already satisfied: filelock in /usr/local/lib/python3.11/dist-packages (from torch==2.3.0) (3.18.0)\n",
            "Requirement already satisfied: typing-extensions>=4.8.0 in /usr/local/lib/python3.11/dist-packages (from torch==2.3.0) (4.14.1)\n",
            "Requirement already satisfied: sympy in /usr/local/lib/python3.11/dist-packages (from torch==2.3.0) (1.13.1)\n",
            "Requirement already satisfied: networkx in /usr/local/lib/python3.11/dist-packages (from torch==2.3.0) (3.5)\n",
            "Requirement already satisfied: jinja2 in /usr/local/lib/python3.11/dist-packages (from torch==2.3.0) (3.1.6)\n",
            "Requirement already satisfied: fsspec in /usr/local/lib/python3.11/dist-packages (from torch==2.3.0) (2025.7.0)\n",
            "Collecting nvidia-cuda-nvrtc-cu12==12.1.105 (from torch==2.3.0)\n",
            "  Downloading nvidia_cuda_nvrtc_cu12-12.1.105-py3-none-manylinux1_x86_64.whl.metadata (1.5 kB)\n",
            "Collecting nvidia-cuda-runtime-cu12==12.1.105 (from torch==2.3.0)\n",
            "  Downloading nvidia_cuda_runtime_cu12-12.1.105-py3-none-manylinux1_x86_64.whl.metadata (1.5 kB)\n",
            "Collecting nvidia-cuda-cupti-cu12==12.1.105 (from torch==2.3.0)\n",
            "  Downloading nvidia_cuda_cupti_cu12-12.1.105-py3-none-manylinux1_x86_64.whl.metadata (1.6 kB)\n",
            "Collecting nvidia-cudnn-cu12==8.9.2.26 (from torch==2.3.0)\n",
            "  Downloading nvidia_cudnn_cu12-8.9.2.26-py3-none-manylinux1_x86_64.whl.metadata (1.6 kB)\n",
            "Collecting nvidia-cublas-cu12==12.1.3.1 (from torch==2.3.0)\n",
            "  Downloading nvidia_cublas_cu12-12.1.3.1-py3-none-manylinux1_x86_64.whl.metadata (1.5 kB)\n",
            "Collecting nvidia-cufft-cu12==11.0.2.54 (from torch==2.3.0)\n",
            "  Downloading nvidia_cufft_cu12-11.0.2.54-py3-none-manylinux1_x86_64.whl.metadata (1.5 kB)\n",
            "Collecting nvidia-curand-cu12==10.3.2.106 (from torch==2.3.0)\n",
            "  Downloading nvidia_curand_cu12-10.3.2.106-py3-none-manylinux1_x86_64.whl.metadata (1.5 kB)\n",
            "Collecting nvidia-cusolver-cu12==11.4.5.107 (from torch==2.3.0)\n",
            "  Downloading nvidia_cusolver_cu12-11.4.5.107-py3-none-manylinux1_x86_64.whl.metadata (1.6 kB)\n",
            "Collecting nvidia-cusparse-cu12==12.1.0.106 (from torch==2.3.0)\n",
            "  Downloading nvidia_cusparse_cu12-12.1.0.106-py3-none-manylinux1_x86_64.whl.metadata (1.6 kB)\n",
            "Collecting nvidia-nccl-cu12==2.20.5 (from torch==2.3.0)\n",
            "  Downloading nvidia_nccl_cu12-2.20.5-py3-none-manylinux2014_x86_64.whl.metadata (1.8 kB)\n",
            "Collecting nvidia-nvtx-cu12==12.1.105 (from torch==2.3.0)\n",
            "  Downloading nvidia_nvtx_cu12-12.1.105-py3-none-manylinux1_x86_64.whl.metadata (1.7 kB)\n",
            "Collecting triton==2.3.0 (from torch==2.3.0)\n",
            "  Downloading triton-2.3.0-cp311-cp311-manylinux_2_17_x86_64.manylinux2014_x86_64.whl.metadata (1.4 kB)\n",
            "Requirement already satisfied: tqdm in /usr/local/lib/python3.11/dist-packages (from torchtext==0.18.0) (4.67.1)\n",
            "Requirement already satisfied: requests in /usr/local/lib/python3.11/dist-packages (from torchtext==0.18.0) (2.32.3)\n",
            "Requirement already satisfied: numpy in /usr/local/lib/python3.11/dist-packages (from torchtext==0.18.0) (2.0.2)\n",
            "Requirement already satisfied: nvidia-nvjitlink-cu12 in /usr/local/lib/python3.11/dist-packages (from nvidia-cusolver-cu12==11.4.5.107->torch==2.3.0) (12.5.82)\n",
            "Requirement already satisfied: MarkupSafe>=2.0 in /usr/local/lib/python3.11/dist-packages (from jinja2->torch==2.3.0) (3.0.2)\n",
            "Requirement already satisfied: charset-normalizer<4,>=2 in /usr/local/lib/python3.11/dist-packages (from requests->torchtext==0.18.0) (3.4.2)\n",
            "Requirement already satisfied: idna<4,>=2.5 in /usr/local/lib/python3.11/dist-packages (from requests->torchtext==0.18.0) (3.10)\n",
            "Requirement already satisfied: urllib3<3,>=1.21.1 in /usr/local/lib/python3.11/dist-packages (from requests->torchtext==0.18.0) (2.5.0)\n",
            "Requirement already satisfied: certifi>=2017.4.17 in /usr/local/lib/python3.11/dist-packages (from requests->torchtext==0.18.0) (2025.7.14)\n",
            "Requirement already satisfied: mpmath<1.4,>=1.1.0 in /usr/local/lib/python3.11/dist-packages (from sympy->torch==2.3.0) (1.3.0)\n",
            "Downloading torch-2.3.0-cp311-cp311-manylinux1_x86_64.whl (779.2 MB)\n",
            "\u001b[2K   \u001b[90m━━━━━━━━━━━━━━━━━━━━━━━━━━━━━━━━━━━━━━━━\u001b[0m \u001b[32m779.2/779.2 MB\u001b[0m \u001b[31m1.5 MB/s\u001b[0m eta \u001b[36m0:00:00\u001b[0m\n",
            "\u001b[?25hDownloading torchtext-0.18.0-cp311-cp311-manylinux1_x86_64.whl (2.0 MB)\n",
            "\u001b[2K   \u001b[90m━━━━━━━━━━━━━━━━━━━━━━━━━━━━━━━━━━━━━━━━\u001b[0m \u001b[32m2.0/2.0 MB\u001b[0m \u001b[31m84.4 MB/s\u001b[0m eta \u001b[36m0:00:00\u001b[0m\n",
            "\u001b[?25hDownloading nvidia_cublas_cu12-12.1.3.1-py3-none-manylinux1_x86_64.whl (410.6 MB)\n",
            "\u001b[2K   \u001b[90m━━━━━━━━━━━━━━━━━━━━━━━━━━━━━━━━━━━━━━━━\u001b[0m \u001b[32m410.6/410.6 MB\u001b[0m \u001b[31m3.8 MB/s\u001b[0m eta \u001b[36m0:00:00\u001b[0m\n",
            "\u001b[?25hDownloading nvidia_cuda_cupti_cu12-12.1.105-py3-none-manylinux1_x86_64.whl (14.1 MB)\n",
            "\u001b[2K   \u001b[90m━━━━━━━━━━━━━━━━━━━━━━━━━━━━━━━━━━━━━━━━\u001b[0m \u001b[32m14.1/14.1 MB\u001b[0m \u001b[31m68.1 MB/s\u001b[0m eta \u001b[36m0:00:00\u001b[0m\n",
            "\u001b[?25hDownloading nvidia_cuda_nvrtc_cu12-12.1.105-py3-none-manylinux1_x86_64.whl (23.7 MB)\n",
            "\u001b[2K   \u001b[90m━━━━━━━━━━━━━━━━━━━━━━━━━━━━━━━━━━━━━━━━\u001b[0m \u001b[32m23.7/23.7 MB\u001b[0m \u001b[31m37.9 MB/s\u001b[0m eta \u001b[36m0:00:00\u001b[0m\n",
            "\u001b[?25hDownloading nvidia_cuda_runtime_cu12-12.1.105-py3-none-manylinux1_x86_64.whl (823 kB)\n",
            "\u001b[2K   \u001b[90m━━━━━━━━━━━━━━━━━━━━━━━━━━━━━━━━━━━━━━━━\u001b[0m \u001b[32m823.6/823.6 kB\u001b[0m \u001b[31m48.1 MB/s\u001b[0m eta \u001b[36m0:00:00\u001b[0m\n",
            "\u001b[?25hDownloading nvidia_cudnn_cu12-8.9.2.26-py3-none-manylinux1_x86_64.whl (731.7 MB)\n",
            "\u001b[2K   \u001b[90m━━━━━━━━━━━━━━━━━━━━━━━━━━━━━━━━━━━━━━━━\u001b[0m \u001b[32m731.7/731.7 MB\u001b[0m \u001b[31m1.2 MB/s\u001b[0m eta \u001b[36m0:00:00\u001b[0m\n",
            "\u001b[?25hDownloading nvidia_cufft_cu12-11.0.2.54-py3-none-manylinux1_x86_64.whl (121.6 MB)\n",
            "\u001b[2K   \u001b[90m━━━━━━━━━━━━━━━━━━━━━━━━━━━━━━━━━━━━━━━━\u001b[0m \u001b[32m121.6/121.6 MB\u001b[0m \u001b[31m7.7 MB/s\u001b[0m eta \u001b[36m0:00:00\u001b[0m\n",
            "\u001b[?25hDownloading nvidia_curand_cu12-10.3.2.106-py3-none-manylinux1_x86_64.whl (56.5 MB)\n",
            "\u001b[2K   \u001b[90m━━━━━━━━━━━━━━━━━━━━━━━━━━━━━━━━━━━━━━━━\u001b[0m \u001b[32m56.5/56.5 MB\u001b[0m \u001b[31m14.5 MB/s\u001b[0m eta \u001b[36m0:00:00\u001b[0m\n",
            "\u001b[?25hDownloading nvidia_cusolver_cu12-11.4.5.107-py3-none-manylinux1_x86_64.whl (124.2 MB)\n",
            "\u001b[2K   \u001b[90m━━━━━━━━━━━━━━━━━━━━━━━━━━━━━━━━━━━━━━━━\u001b[0m \u001b[32m124.2/124.2 MB\u001b[0m \u001b[31m7.4 MB/s\u001b[0m eta \u001b[36m0:00:00\u001b[0m\n",
            "\u001b[?25hDownloading nvidia_cusparse_cu12-12.1.0.106-py3-none-manylinux1_x86_64.whl (196.0 MB)\n",
            "\u001b[2K   \u001b[90m━━━━━━━━━━━━━━━━━━━━━━━━━━━━━━━━━━━━━━━━\u001b[0m \u001b[32m196.0/196.0 MB\u001b[0m \u001b[31m6.0 MB/s\u001b[0m eta \u001b[36m0:00:00\u001b[0m\n",
            "\u001b[?25hDownloading nvidia_nccl_cu12-2.20.5-py3-none-manylinux2014_x86_64.whl (176.2 MB)\n",
            "\u001b[2K   \u001b[90m━━━━━━━━━━━━━━━━━━━━━━━━━━━━━━━━━━━━━━━━\u001b[0m \u001b[32m176.2/176.2 MB\u001b[0m \u001b[31m7.6 MB/s\u001b[0m eta \u001b[36m0:00:00\u001b[0m\n",
            "\u001b[?25hDownloading nvidia_nvtx_cu12-12.1.105-py3-none-manylinux1_x86_64.whl (99 kB)\n",
            "\u001b[2K   \u001b[90m━━━━━━━━━━━━━━━━━━━━━━━━━━━━━━━━━━━━━━━━\u001b[0m \u001b[32m99.1/99.1 kB\u001b[0m \u001b[31m10.0 MB/s\u001b[0m eta \u001b[36m0:00:00\u001b[0m\n",
            "\u001b[?25hDownloading triton-2.3.0-cp311-cp311-manylinux_2_17_x86_64.manylinux2014_x86_64.whl (168.1 MB)\n",
            "\u001b[2K   \u001b[90m━━━━━━━━━━━━━━━━━━━━━━━━━━━━━━━━━━━━━━━━\u001b[0m \u001b[32m168.1/168.1 MB\u001b[0m \u001b[31m6.5 MB/s\u001b[0m eta \u001b[36m0:00:00\u001b[0m\n",
            "\u001b[?25hInstalling collected packages: triton, nvidia-nvtx-cu12, nvidia-nccl-cu12, nvidia-cusparse-cu12, nvidia-curand-cu12, nvidia-cufft-cu12, nvidia-cuda-runtime-cu12, nvidia-cuda-nvrtc-cu12, nvidia-cuda-cupti-cu12, nvidia-cublas-cu12, nvidia-cusolver-cu12, nvidia-cudnn-cu12, torch, torchtext\n",
            "  Attempting uninstall: triton\n",
            "    Found existing installation: triton 3.2.0\n",
            "    Uninstalling triton-3.2.0:\n",
            "      Successfully uninstalled triton-3.2.0\n",
            "  Attempting uninstall: nvidia-nvtx-cu12\n",
            "    Found existing installation: nvidia-nvtx-cu12 12.4.127\n",
            "    Uninstalling nvidia-nvtx-cu12-12.4.127:\n",
            "      Successfully uninstalled nvidia-nvtx-cu12-12.4.127\n",
            "  Attempting uninstall: nvidia-nccl-cu12\n",
            "    Found existing installation: nvidia-nccl-cu12 2.21.5\n",
            "    Uninstalling nvidia-nccl-cu12-2.21.5:\n",
            "      Successfully uninstalled nvidia-nccl-cu12-2.21.5\n",
            "  Attempting uninstall: nvidia-cusparse-cu12\n",
            "    Found existing installation: nvidia-cusparse-cu12 12.5.1.3\n",
            "    Uninstalling nvidia-cusparse-cu12-12.5.1.3:\n",
            "      Successfully uninstalled nvidia-cusparse-cu12-12.5.1.3\n",
            "  Attempting uninstall: nvidia-curand-cu12\n",
            "    Found existing installation: nvidia-curand-cu12 10.3.6.82\n",
            "    Uninstalling nvidia-curand-cu12-10.3.6.82:\n",
            "      Successfully uninstalled nvidia-curand-cu12-10.3.6.82\n",
            "  Attempting uninstall: nvidia-cufft-cu12\n",
            "    Found existing installation: nvidia-cufft-cu12 11.2.3.61\n",
            "    Uninstalling nvidia-cufft-cu12-11.2.3.61:\n",
            "      Successfully uninstalled nvidia-cufft-cu12-11.2.3.61\n",
            "  Attempting uninstall: nvidia-cuda-runtime-cu12\n",
            "    Found existing installation: nvidia-cuda-runtime-cu12 12.5.82\n",
            "    Uninstalling nvidia-cuda-runtime-cu12-12.5.82:\n",
            "      Successfully uninstalled nvidia-cuda-runtime-cu12-12.5.82\n",
            "  Attempting uninstall: nvidia-cuda-nvrtc-cu12\n",
            "    Found existing installation: nvidia-cuda-nvrtc-cu12 12.5.82\n",
            "    Uninstalling nvidia-cuda-nvrtc-cu12-12.5.82:\n",
            "      Successfully uninstalled nvidia-cuda-nvrtc-cu12-12.5.82\n",
            "  Attempting uninstall: nvidia-cuda-cupti-cu12\n",
            "    Found existing installation: nvidia-cuda-cupti-cu12 12.5.82\n",
            "    Uninstalling nvidia-cuda-cupti-cu12-12.5.82:\n",
            "      Successfully uninstalled nvidia-cuda-cupti-cu12-12.5.82\n",
            "  Attempting uninstall: nvidia-cublas-cu12\n",
            "    Found existing installation: nvidia-cublas-cu12 12.5.3.2\n",
            "    Uninstalling nvidia-cublas-cu12-12.5.3.2:\n",
            "      Successfully uninstalled nvidia-cublas-cu12-12.5.3.2\n",
            "  Attempting uninstall: nvidia-cusolver-cu12\n",
            "    Found existing installation: nvidia-cusolver-cu12 11.6.3.83\n",
            "    Uninstalling nvidia-cusolver-cu12-11.6.3.83:\n",
            "      Successfully uninstalled nvidia-cusolver-cu12-11.6.3.83\n",
            "  Attempting uninstall: nvidia-cudnn-cu12\n",
            "    Found existing installation: nvidia-cudnn-cu12 9.3.0.75\n",
            "    Uninstalling nvidia-cudnn-cu12-9.3.0.75:\n",
            "      Successfully uninstalled nvidia-cudnn-cu12-9.3.0.75\n",
            "  Attempting uninstall: torch\n",
            "    Found existing installation: torch 2.6.0+cu124\n",
            "    Uninstalling torch-2.6.0+cu124:\n",
            "      Successfully uninstalled torch-2.6.0+cu124\n",
            "\u001b[31mERROR: pip's dependency resolver does not currently take into account all the packages that are installed. This behaviour is the source of the following dependency conflicts.\n",
            "torchvision 0.21.0+cu124 requires torch==2.6.0, but you have torch 2.3.0 which is incompatible.\n",
            "torchaudio 2.6.0+cu124 requires torch==2.6.0, but you have torch 2.3.0 which is incompatible.\u001b[0m\u001b[31m\n",
            "\u001b[0mSuccessfully installed nvidia-cublas-cu12-12.1.3.1 nvidia-cuda-cupti-cu12-12.1.105 nvidia-cuda-nvrtc-cu12-12.1.105 nvidia-cuda-runtime-cu12-12.1.105 nvidia-cudnn-cu12-8.9.2.26 nvidia-cufft-cu12-11.0.2.54 nvidia-curand-cu12-10.3.2.106 nvidia-cusolver-cu12-11.4.5.107 nvidia-cusparse-cu12-12.1.0.106 nvidia-nccl-cu12-2.20.5 nvidia-nvtx-cu12-12.1.105 torch-2.3.0 torchtext-0.18.0 triton-2.3.0\n"
          ]
        },
        {
          "output_type": "display_data",
          "data": {
            "application/vnd.colab-display-data+json": {
              "pip_warning": {
                "packages": [
                  "torch",
                  "torchgen"
                ]
              },
              "id": "f0eec486b07e434d8672fdfdc624bb99"
            }
          },
          "metadata": {}
        },
        {
          "output_type": "stream",
          "name": "stdout",
          "text": [
            "Name: torch\n",
            "Version: 2.3.0\n",
            "Summary: Tensors and Dynamic neural networks in Python with strong GPU acceleration\n",
            "Home-page: https://pytorch.org/\n",
            "Author: PyTorch Team\n",
            "Author-email: packages@pytorch.org\n",
            "License: BSD-3\n",
            "Location: /usr/local/lib/python3.11/dist-packages\n",
            "Requires: filelock, fsspec, jinja2, networkx, nvidia-cublas-cu12, nvidia-cuda-cupti-cu12, nvidia-cuda-nvrtc-cu12, nvidia-cuda-runtime-cu12, nvidia-cudnn-cu12, nvidia-cufft-cu12, nvidia-curand-cu12, nvidia-cusolver-cu12, nvidia-cusparse-cu12, nvidia-nccl-cu12, nvidia-nvtx-cu12, sympy, triton, typing-extensions\n",
            "Required-by: accelerate, fastai, peft, sentence-transformers, timm, torchaudio, torchdata, torchtext, torchvision\n",
            "---\n",
            "Name: torchtext\n",
            "Version: 0.18.0\n",
            "Summary: Text utilities, models, transforms, and datasets for PyTorch.\n",
            "Home-page: https://github.com/pytorch/text\n",
            "Author: PyTorch Text Team\n",
            "Author-email: packages@pytorch.org\n",
            "License: BSD\n",
            "Location: /usr/local/lib/python3.11/dist-packages\n",
            "Requires: numpy, requests, torch, tqdm\n",
            "Required-by: \n"
          ]
        }
      ],
      "source": [
        "\"\"\"\n",
        "For pytorch 2.0 use '!pip install torchdata'\n",
        "\"\"\"\n",
        "## Install the necessary packages\n",
        "# use only if necessary\n",
        "\n",
        "!pip install torch==2.3.0 torchtext==0.18.0\n",
        "\n",
        "## Check the installed versions\n",
        "!pip show torch torchtext"
      ]
    },
    {
      "cell_type": "code",
      "execution_count": null,
      "metadata": {
        "id": "bLTwPB3Un9-4",
        "colab": {
          "base_uri": "https://localhost:8080/"
        },
        "outputId": "6cabe7ff-b1d7-4ced-8bbf-b7f2ac326118"
      },
      "outputs": [
        {
          "output_type": "stream",
          "name": "stderr",
          "text": [
            "/usr/local/lib/python3.11/dist-packages/torchtext/vocab/__init__.py:4: UserWarning: \n",
            "/!\\ IMPORTANT WARNING ABOUT TORCHTEXT STATUS /!\\ \n",
            "Torchtext is deprecated and the last released version will be 0.18 (this one). You can silence this warning by calling the following at the beginnign of your scripts: `import torchtext; torchtext.disable_torchtext_deprecation_warning()`\n",
            "  warnings.warn(torchtext._TORCHTEXT_DEPRECATION_MSG)\n",
            "/usr/local/lib/python3.11/dist-packages/torchtext/utils.py:4: UserWarning: \n",
            "/!\\ IMPORTANT WARNING ABOUT TORCHTEXT STATUS /!\\ \n",
            "Torchtext is deprecated and the last released version will be 0.18 (this one). You can silence this warning by calling the following at the beginnign of your scripts: `import torchtext; torchtext.disable_torchtext_deprecation_warning()`\n",
            "  warnings.warn(torchtext._TORCHTEXT_DEPRECATION_MSG)\n",
            "/usr/local/lib/python3.11/dist-packages/torchtext/data/__init__.py:4: UserWarning: \n",
            "/!\\ IMPORTANT WARNING ABOUT TORCHTEXT STATUS /!\\ \n",
            "Torchtext is deprecated and the last released version will be 0.18 (this one). You can silence this warning by calling the following at the beginnign of your scripts: `import torchtext; torchtext.disable_torchtext_deprecation_warning()`\n",
            "  warnings.warn(torchtext._TORCHTEXT_DEPRECATION_MSG)\n"
          ]
        }
      ],
      "source": [
        "import torch\n",
        "import random\n",
        "import re\n",
        "from tqdm import tqdm\n",
        "from typing import Tuple\n",
        "from typing import Optional\n",
        "from torch import nn, Tensor\n",
        "from collections import Counter\n",
        "import matplotlib.pyplot as plt\n",
        "from torchtext.vocab import vocab\n",
        "from torch.utils.data import dataset\n",
        "from torchtext.data.utils import get_tokenizer\n",
        "from torch.utils.data import DataLoader, Dataset\n",
        "from torchtext.vocab import build_vocab_from_iterator\n",
        "\n",
        "device = torch.device('cuda' if torch.cuda.is_available() else 'cpu')"
      ]
    },
    {
      "cell_type": "markdown",
      "metadata": {
        "id": "I24eK3y8-3bm"
      },
      "source": [
        "2. Let us now load the dataset.\n",
        "- In this notebook, we will use one of the most popular text datasets, WikiText2. The dataset is a collection of over 100 million tokens extracted from the set of verified Good and Featured articles on Wikipedia. The dataset is commonly used in the scope of language modeling.\n",
        "- We have provided the dataset in the form of a .txt file for ease of use."
      ]
    },
    {
      "cell_type": "code",
      "execution_count": null,
      "metadata": {
        "id": "8xRoML5AoJLr"
      },
      "outputs": [],
      "source": [
        "# change the path and name of the files accordingly\n",
        "\n",
        "with open(\"wiki.train.txt\", \"r\") as train, \\\n",
        "     open(\"wiki.valid.txt\", \"r\") as val, \\\n",
        "     open(\"wiki.test.txt\", \"r\") as test:\n",
        "\n",
        "    train_data = train.readlines()\n",
        "    val_data = val.readlines()\n",
        "    test_data = test.readlines()\n",
        "\n",
        "    valid_data =  val_data + test_data\n",
        "\n"
      ]
    },
    {
      "cell_type": "markdown",
      "metadata": {
        "id": "88p22Igj-3bm"
      },
      "source": [
        "3. Data Preprocessing\n",
        "\n",
        "- Now, we will proceed to clean the raw text file. We will try to remove anything except the words with english alphabets, that is, remove punctuations, special characters, extra white spaces, and numerical characters.\n",
        "\n",
        "Feel free to use one of the widely used libraries to process the data such as nltk, RegEx\n"
      ]
    },
    {
      "cell_type": "code",
      "execution_count": null,
      "metadata": {
        "id": "T7SPV7b0-3bn"
      },
      "outputs": [],
      "source": [
        "### Preprocess the data: Both for training and validation data\n",
        "\n",
        "for i in range(len(train_data)):\n",
        "    train_data[i] = re.sub(\"\\s+\", \" \", train_data[i]) # Remove the extra spaces\n",
        "    train_data[i] = re.sub(\"\\d+\", \" \", train_data[i]) # Remove the digits\n",
        "    train_data[i] = re.sub(\"[^a-zA-Z]+\", \" \", train_data[i]) # Remove the unwanted characters (anything other than a-z, A-Z)\n",
        "\n",
        "for i in range(len(valid_data)):\n",
        "    valid_data[i] = re.sub(\"\\s+\", \" \", valid_data[i])     #same\n",
        "    valid_data[i] = re.sub(\"\\d+\", \" \", valid_data[i])\n",
        "    valid_data[i] = re.sub(\"[^a-zA-Z]+\", \" \", valid_data[i])"
      ]
    },
    {
      "cell_type": "markdown",
      "metadata": {
        "id": "uM_MxI5Y-3bn"
      },
      "source": [
        "4. Define a tokenizer and create a vocabulary for the dataset\n",
        "- In this notebook, we will use the basic_english tokenizer from torchtext to tokenize the text data.\n",
        "- We will then create a vocabulary from the training data using the build_vocab_from_iterator function from torchtext.\n"
      ]
    },
    {
      "cell_type": "code",
      "execution_count": null,
      "metadata": {
        "id": "rFLqB-5woMMy"
      },
      "outputs": [],
      "source": [
        "## Tokenizer\n",
        "tokenizer = get_tokenizer('basic_english')\n",
        "\n",
        "### VOcalbulary class\n",
        "class Vocabulary(Dataset):\n",
        "  def __init__(self, wikidata, tokenizer):\n",
        "    self.tokenizer = tokenizer\n",
        "    self.wikidata = wikidata\n",
        "\n",
        "    # actual length of train vocab is 66057\n",
        "\n",
        "    self.corpus_vocab = build_vocab_from_iterator(map(self.tokenizer, wikidata), max_tokens= 30000)\n",
        "    self.corpus_vocab.set_default_index(0)\n",
        "\n",
        "  def word_to_idx(self, word): # word_to_idx: This method should return the index of the word in the vocab\n",
        "    return self.corpus_vocab.get_stoi()[word]\n",
        "\n",
        "  def idx_to_word(self, idx): # idx_to_word: This method should return the word given the index\n",
        "    return self.corpus_vocab.get_itos()[idx]\n",
        "\n",
        "  def __len__(self): # __len__: This method should return the length of the vocab\n",
        "    return len(self.corpus_vocab)"
      ]
    },
    {
      "cell_type": "markdown",
      "metadata": {
        "id": "PzMJPaPH-3bn"
      },
      "source": [
        "Convert raw text into tensor tokens\n",
        "\n",
        "- Create a function to transform the text data into a tensor of indices\n",
        "- Use the vocabulary object and the tokenizer to transform the raw text into a tensor of indices"
      ]
    },
    {
      "cell_type": "code",
      "execution_count": null,
      "metadata": {
        "id": "iQcASRxho5Uv"
      },
      "outputs": [],
      "source": [
        "\"\"\" Converts raw text into a flat Tensor\n",
        "**** ------------------- TO-DO ------------------- ****\n",
        "### Define the data_process function\n",
        "### The function should have the following arguments:\n",
        "### 1. vocabulary: The vocabulary object\n",
        "### 2. raw_text_iter: The raw text data\n",
        "### The function should return a flat tensor of the raw text data\n",
        "\n",
        "\"\"\"\n",
        "\n",
        "def data_process(vocabulary, raw_text_iter: dataset.IterableDataset) -> Tensor:\n",
        "    data = [torch.tensor(vocabulary.corpus_vocab(tokenizer(item)), dtype=torch.long) for item in raw_text_iter]\n",
        "\n",
        "    return torch.cat(tuple(filter(lambda t: bool(t.numel()), data)))\n"
      ]
    },
    {
      "cell_type": "markdown",
      "metadata": {
        "id": "uzme7Qmu-3bo"
      },
      "source": [
        "Dataset and Dataloaders\n",
        "\n",
        "- We are now well placed to design the dataset class and the dataloaders accordingly.\n",
        "- We would like to get window of tokens from the dataset class\n",
        "- Experiment with the batch size, num_workers in dataloader object\n"
      ]
    },
    {
      "cell_type": "code",
      "execution_count": null,
      "metadata": {
        "id": "2NOgHyAO-3bp"
      },
      "outputs": [],
      "source": [
        "\n",
        "MAX_VOCAB =  27000\n",
        "batch_size = 128\n",
        "\n",
        "class Wikipedia_Dataloader(Dataset):\n",
        "  def __init__(self, corpus, vocab_len): #This method should initialize the dataset\n",
        "    self.corpus = corpus\n",
        "    self.vocab_len =  vocab_len\n",
        "    self.seq_len = 5\n",
        "\n",
        "  def __len__(self): #This method should return the length of the dataset\n",
        "    return len(self.corpus)\n",
        "\n",
        "  def __getitem__(self, idx): #This method should return the data at the given index\n",
        "    fs = self.corpus[idx : idx + self.seq_len]\n",
        "    #print(self.vocab_len)\n",
        "    random_index = torch.randint(1, self.vocab_len + 1, (1,))\n",
        "    fsw = torch.cat((fs[:-1], random_index))\n",
        "    #print(fsw.shape,fs.shape)\n",
        "    return fs, fsw\n",
        "\n",
        "\n",
        "# prepare data loaders\n",
        "vocabulary = Vocabulary(train_data, tokenizer)\n",
        "train_iter = data_process(vocabulary, train_data)\n",
        "wiki_data_train = Wikipedia_Dataloader(train_iter, 20000)\n",
        "data_loader = DataLoader(wiki_data_train, batch_size= batch_size, drop_last=True)\n",
        "\n",
        "vocabulary_v = Vocabulary(valid_data, tokenizer)\n",
        "val_iter = data_process( vocabulary_v, valid_data)\n",
        "wiki_data_valid = Wikipedia_Dataloader(val_iter, 20000)\n",
        "data_loader_valid = DataLoader(wiki_data_valid, batch_size= batch_size, drop_last=True)"
      ]
    },
    {
      "cell_type": "code",
      "execution_count": null,
      "metadata": {
        "id": "m_241LOsqEOn"
      },
      "outputs": [],
      "source": [
        "lr = 1e-3\n",
        "epochs = 20\n",
        "embed_dim = 50\n",
        "batch_size = 128\n",
        "hidden_units = 100\n"
      ]
    },
    {
      "cell_type": "markdown",
      "metadata": {
        "id": "QavrSD8iqh93"
      },
      "source": [
        "### Define a simple language model\n",
        "\n",
        "- Step 1: Encode each word into a multi-dimensional vector embedding\n",
        "- Step 2: Pass the embeddings through a simple multi-layer perceptron.\n",
        "- Step 3: The model should output only a single word\n",
        "\n",
        "HINT: If you had read the cited paper, we would have probably seen the authors have used look-up tables for embeddings. Use torch.nn.Embeddings function instead\n"
      ]
    },
    {
      "cell_type": "code",
      "execution_count": null,
      "metadata": {
        "id": "KirbkMD_qEOo"
      },
      "outputs": [],
      "source": [
        "### Language Model\n",
        "### The model should have the following layers:\n",
        "### 1. Embedding layer\n",
        "### 2. Flatten layer\n",
        "### 3. Linear layer\n",
        "\n",
        "\n",
        "class CurriculumLearning(nn.Module):\n",
        "  def __init__(self, max_vocab, embed_dim, hidden_units):\n",
        "    super(CurriculumLearning, self).__init__()\n",
        "    self.embed = nn.Embedding(max_vocab, embed_dim)\n",
        "    self.flat = nn.Flatten()\n",
        "    self.linear_layers = nn.Sequential(\n",
        "        nn.Linear(embed_dim *5 , hidden_units),\n",
        "        nn.Tanh(),\n",
        "        nn.Linear(hidden_units, 1),\n",
        "    )\n",
        "\n",
        "  def forward(self, x):\n",
        "    x = self.embed(x)\n",
        "    x = self.flat(x)\n",
        "    x = self.linear_layers(x)\n",
        "    return x"
      ]
    },
    {
      "cell_type": "markdown",
      "metadata": {
        "id": "nmz3MMVo-3bp"
      },
      "source": [
        "Before proceeding to Curriculum training, let us first conduct a joint training on entire vocabulary set.\n",
        "\n",
        "For the sake of simplicity, we have choosen to use the first 20k words in our use case.\n",
        "Define the following training attributes:"
      ]
    },
    {
      "cell_type": "code",
      "execution_count": null,
      "metadata": {
        "colab": {
          "base_uri": "https://localhost:8080/"
        },
        "id": "fAzTOwWJIUaN",
        "outputId": "40a6f716-1db3-42d8-b7f5-307c991467b2"
      },
      "outputs": [
        {
          "output_type": "stream",
          "name": "stdout",
          "text": [
            "CurriculumLearning(\n",
            "  (embed): Embedding(27000, 50)\n",
            "  (flat): Flatten(start_dim=1, end_dim=-1)\n",
            "  (linear_layers): Sequential(\n",
            "    (0): Linear(in_features=250, out_features=100, bias=True)\n",
            "    (1): Tanh()\n",
            "    (2): Linear(in_features=100, out_features=1, bias=True)\n",
            "  )\n",
            ")\n"
          ]
        }
      ],
      "source": [
        "## Initialize the model\n",
        "\n",
        "## Define the loss function\n",
        "\n",
        "## Define the optimizer\n",
        "\n",
        "## Define the learning rate scheduler\n",
        "model = CurriculumLearning(MAX_VOCAB, embed_dim, hidden_units).to(device)\n",
        "print(model)\n",
        "#model.cpu()\n",
        "loss_fn = nn.MarginRankingLoss(margin=1.0)\n",
        "optimizer_ = torch.optim.SGD(model.parameters(), lr = 1e-3)\n",
        "scheduler_ = torch.optim.lr_scheduler.CosineAnnealingLR(optimizer_, T_max=4, eta_min=9e-3)"
      ]
    },
    {
      "cell_type": "markdown",
      "metadata": {
        "id": "2IX3vzAJqm-w"
      },
      "source": [
        "#### Helper function to check whether a word falls into our pre-specified range of vocabulary of 20k words. IF not, we reject the complete window as also discussed in the paper\n"
      ]
    },
    {
      "cell_type": "code",
      "execution_count": null,
      "metadata": {
        "id": "HMhdRwHeq5Pl"
      },
      "outputs": [],
      "source": [
        "def validate_window(fs_batch, fsw_batch, vocab_size) -> Tuple[Tensor, Tensor]:\n",
        "    #print(vocab_size)\n",
        "    condition = torch.logical_and(torch.all(torch.lt(fs_batch, vocab_size), dim=1), torch.all(torch.lt(fsw_batch, vocab_size), dim=1))\n",
        "    indices = torch.nonzero(condition)\n",
        "\n",
        "\n",
        "    if len(indices) == 0:\n",
        "        return torch.tensor([]), torch.tensor([])\n",
        "\n",
        "    valid_fs = torch.index_select(fs_batch, 0, indices.flatten())\n",
        "    valid_fsw = torch.index_select(fsw_batch, 0, indices.flatten())\n",
        "\n",
        "    return valid_fs, valid_fsw"
      ]
    },
    {
      "cell_type": "markdown",
      "metadata": {
        "id": "jNnG4sF5-3bq"
      },
      "source": [
        "#### Define the training loop and similarily the evaluation loop.\n",
        "\n",
        "- Read windows of texts\n",
        "- Validate it through the validate_window function\n",
        "\n",
        "HINT: The structure should be the same for both of these functions"
      ]
    },
    {
      "cell_type": "code",
      "execution_count": null,
      "metadata": {
        "id": "FkwAfTVj_PA_"
      },
      "outputs": [],
      "source": [
        "def train(data: torch.utils.data.dataloader.DataLoader,\n",
        "          model: nn.Module,\n",
        "          optimizer,\n",
        "          loss_fn,\n",
        "          vocab_size: Optional[int] = MAX_VOCAB\n",
        "\n",
        "          ):\n",
        "    device = torch.device('cuda' if torch.cuda.is_available() else 'cpu')\n",
        "    model.train()\n",
        "    epoch_loss = 0\n",
        "    d= 0\n",
        "    for fs, fsw in tqdm(data):\n",
        "      optimizer.zero_grad()\n",
        "      correct_win, incorrect_win = validate_window(fs, fsw, vocab_size)\n",
        "      if correct_win.numel() == 0:\n",
        "        continue\n",
        "\n",
        "      correct_score = model(correct_win.to(device))\n",
        "      wrong_score = model(incorrect_win.to(device))\n",
        "\n",
        "      target = torch.ones_like(correct_score)\n",
        "      loss = loss_fn(correct_score, wrong_score, target)\n",
        "\n",
        "      loss.backward()\n",
        "      optimizer.step()\n",
        "      epoch_loss += loss.item()\n",
        "\n",
        "    print(f\"[Train] Loss: {epoch_loss/len(data):.4f}\")"
      ]
    },
    {
      "cell_type": "code",
      "execution_count": null,
      "metadata": {
        "id": "fkfyh2ryEE8q"
      },
      "outputs": [],
      "source": [
        "def evaluate(data: torch.utils.data.dataloader.DataLoader,\n",
        "          model: nn.Module,\n",
        "          loss_fn,\n",
        "          ):\n",
        "\n",
        "    model.eval()\n",
        "    ranks = torch.tensor([])\n",
        "    epoch_loss = 0\n",
        "    total_batches = 0\n",
        "\n",
        "    with torch.no_grad():\n",
        "      for fs, fsw in data:\n",
        "        correct_win, incorrect_win = validate_window(fs, fsw, MAX_VOCAB)\n",
        "        if correct_win.numel() == 0:\n",
        "          continue\n",
        "\n",
        "        correct_score = model(correct_win.to(device))\n",
        "        wrong_score = model(incorrect_win.to(device))\n",
        "\n",
        "        target = torch.ones_like(correct_score)\n",
        "        loss = loss_fn(correct_score, wrong_score, target)\n",
        "\n",
        "        epoch_loss += loss.item()\n",
        "        ranks = torch.cat((ranks, torch.unsqueeze(loss, 0).to('cpu')))\n",
        "\n",
        "    avg_rank = torch.mean(ranks)\n",
        "    print(f\"[Eval]  Loss:: {epoch_loss/len(data):.4f}\")\n",
        "\n",
        "    return avg_rank.item()"
      ]
    },
    {
      "cell_type": "code",
      "execution_count": null,
      "metadata": {
        "colab": {
          "base_uri": "https://localhost:8080/"
        },
        "id": "wVLS8Fd2qEOq",
        "outputId": "c1e6f818-ddee-4334-b70c-6aab4f6fbe84",
        "pycharm": {
          "is_executing": true
        }
      },
      "outputs": [
        {
          "output_type": "stream",
          "name": "stdout",
          "text": [
            "Training without Curriculum Learning \n",
            "----------------------------------------------------------\n",
            "\n",
            "Epoch: 1/4\n"
          ]
        },
        {
          "output_type": "stream",
          "name": "stderr",
          "text": [
            "100%|██████████| 13238/13238 [00:54<00:00, 244.51it/s]\n"
          ]
        },
        {
          "output_type": "stream",
          "name": "stdout",
          "text": [
            "[Train] Loss: 0.7514\n",
            "[Eval]  Loss:: 0.6898\n",
            "[0.0021715728752538096]\n",
            "\n",
            "Epoch: 2/4\n"
          ]
        },
        {
          "output_type": "stream",
          "name": "stderr",
          "text": [
            "100%|██████████| 13238/13238 [00:53<00:00, 245.78it/s]\n"
          ]
        },
        {
          "output_type": "stream",
          "name": "stdout",
          "text": [
            "[Train] Loss: 0.7188\n",
            "[Eval]  Loss:: 0.6720\n",
            "[0.004999999999999999]\n",
            "\n",
            "Epoch: 3/4\n"
          ]
        },
        {
          "output_type": "stream",
          "name": "stderr",
          "text": [
            "100%|██████████| 13238/13238 [00:54<00:00, 244.12it/s]\n"
          ]
        },
        {
          "output_type": "stream",
          "name": "stdout",
          "text": [
            "[Train] Loss: 0.6668\n",
            "[Eval]  Loss:: 0.5814\n",
            "[0.00782842712474619]\n",
            "\n",
            "Epoch: 4/4\n"
          ]
        },
        {
          "output_type": "stream",
          "name": "stderr",
          "text": [
            "100%|██████████| 13238/13238 [00:54<00:00, 244.31it/s]\n"
          ]
        },
        {
          "output_type": "stream",
          "name": "stdout",
          "text": [
            "[Train] Loss: 0.5164\n",
            "[Eval]  Loss:: 0.4447\n",
            "[0.009]\n"
          ]
        }
      ],
      "source": [
        "### Start training the non-curriculum learning model\n",
        "print('Training without Curriculum Learning \\n----------------------------------------------------------')\n",
        "\n",
        "collect_ranks = []    #torch.tensor([])\n",
        "epochs= 4\n",
        "for i in range(epochs):\n",
        "\n",
        "  print(f'\\nEpoch: {i + 1}/{epochs}')\n",
        "  train(data_loader, model, optimizer_, loss_fn, vocab_size=20000)\n",
        "  collect_ranks.append(evaluate(data_loader_valid, model, loss_fn))\n",
        "  scheduler_.step()\n",
        "  print(scheduler_.get_last_lr())"
      ]
    },
    {
      "cell_type": "code",
      "execution_count": null,
      "metadata": {
        "colab": {
          "base_uri": "https://localhost:8080/",
          "height": 452
        },
        "id": "qDkPOd2-qEOq",
        "outputId": "91260c45-1b92-4d43-ef04-da044b76794d",
        "pycharm": {
          "is_executing": true
        }
      },
      "outputs": [
        {
          "output_type": "display_data",
          "data": {
            "text/plain": [
              "<Figure size 640x480 with 1 Axes>"
            ],
            "image/png": "[encoded data removed]"
          },
          "metadata": {}
        }
      ],
      "source": [
        "fig, ax = plt.subplots()\n",
        "\n",
        "x_cord = range(0, len(collect_ranks))\n",
        "ax.plot(x_cord, collect_ranks)\n",
        "\n",
        "ax.set_xlabel('Number of updates')\n",
        "ax.set_ylabel('Log of rank')\n",
        "plt.show()"
      ]
    },
    {
      "cell_type": "markdown",
      "metadata": {
        "id": "YHbVQKYg-3br"
      },
      "source": [
        "We now transition to curriculum training. Model definition should be the same. However,unlike joint training, now we need to train our model with bins in a curriculum fashion. In this case, we will equally divide the data in terms of vocab size into four bins. That means, we will first training on first 5000 vocab words and then progressively add 5000 more words to the vocab until we reach 20k words. We simply reject any window with words outside the specified vocab range."
      ]
    },
    {
      "cell_type": "code",
      "execution_count": null,
      "metadata": {
        "id": "2U7DlYuYqEOr"
      },
      "outputs": [],
      "source": [
        "# ***********************************************************\n",
        "# training with Curriculum Learning\n",
        "# ***********************************************************\n",
        "\n",
        "model_curriculum = CurriculumLearning(27000, embed_dim, hidden_units).to(device)\n",
        "loss_fn = nn.MarginRankingLoss(margin=1.0)\n",
        "optimizer = torch.optim.SGD(model_curriculum.parameters(), lr = 1e-3)\n",
        "scheduler = torch.optim.lr_scheduler.CosineAnnealingLR(optimizer, T_max=4, eta_min=9e-3)\n"
      ]
    },
    {
      "cell_type": "code",
      "execution_count": null,
      "metadata": {
        "id": "4CjfagmF-3bs"
      },
      "outputs": [],
      "source": [
        "\"\"\"\n",
        "1. Segment the training data into 4 parts\n",
        "2. Create the data loaders for each part\n",
        "3. Create the data loader for the validation data- it will be the same as we had defined for the non-curriculum learning model\n",
        "\"\"\"\n",
        "vocabulary = Vocabulary(train_data, tokenizer)\n",
        "train_iter = data_process(vocabulary, train_data)\n",
        "train_loader = []\n",
        "for i in range(4):\n",
        "\n",
        "    wiki_data_train = Wikipedia_Dataloader(train_iter,5000*(i+1))\n",
        "    data_loader = DataLoader(wiki_data_train, batch_size= batch_size, drop_last=True)\n",
        "    train_loader.append(data_loader)\n",
        "\n",
        "vocabulary_v = Vocabulary(valid_data, tokenizer)\n",
        "val_iter = data_process( vocabulary_v, valid_data)\n",
        "wiki_data_valid = Wikipedia_Dataloader(val_iter, 20000)\n",
        "data_loader_valid = DataLoader(wiki_data_valid, batch_size= batch_size, drop_last=True)\n"
      ]
    },
    {
      "cell_type": "code",
      "execution_count": null,
      "metadata": {
        "id": "aE6Q2hyJ-3bs"
      },
      "outputs": [],
      "source": [
        "def train(data: torch.utils.data.dataloader.DataLoader,\n",
        "          model: nn.Module,\n",
        "          optimizer,\n",
        "          loss_fn,\n",
        "          size: int,\n",
        "          vocab_size: Optional[int] = MAX_VOCAB\n",
        "          ):\n",
        "\n",
        "    model.train()\n",
        "    epoch_loss = 0\n",
        "    data_length = 0\n",
        "    d=0\n",
        "    for fs, fsw in tqdm(data):\n",
        "      optimizer.zero_grad()\n",
        "      correct_win, incorrect_win = validate_window(fs, fsw, vocab_size)\n",
        "      if correct_win.numel() == 0:\n",
        "        continue\n",
        "\n",
        "      correct_score = model(correct_win.to(device))\n",
        "      wrong_score = model(incorrect_win.to(device))\n",
        "\n",
        "      target = torch.ones_like(correct_score)\n",
        "      loss = loss_fn(correct_score, wrong_score, target)\n",
        "\n",
        "      loss.backward()\n",
        "      optimizer.step()\n",
        "      epoch_loss += loss.item()\n",
        "\n",
        "    #print(int(data_length/128))\n",
        "    print(d)\n",
        "    print(f\"[Train] Loss: {epoch_loss/len(data):.4f}\")\n"
      ]
    },
    {
      "cell_type": "code",
      "execution_count": null,
      "metadata": {
        "colab": {
          "base_uri": "https://localhost:8080/"
        },
        "id": "atyfniG-qEOr",
        "outputId": "d1b8de62-b070-4dd1-9eef-90c300cec690",
        "pycharm": {
          "is_executing": true
        }
      },
      "outputs": [
        {
          "output_type": "stream",
          "name": "stdout",
          "text": [
            "Training with Curriculum Learning\n",
            "----------------------------------------------------------\n",
            "\n",
            "Epoch: (1/1) | Experience: (1/4) | Vocab size: 5000\n"
          ]
        },
        {
          "output_type": "stream",
          "name": "stderr",
          "text": [
            "100%|██████████| 13238/13238 [00:55<00:00, 237.93it/s]\n"
          ]
        },
        {
          "output_type": "stream",
          "name": "stdout",
          "text": [
            "0\n",
            "[Train] Loss: 0.7247\n",
            "[Eval]  Loss:: 0.7058\n",
            "[0.0021715728752538096]\n",
            "----------------------------------------------------------\n",
            "\n",
            "Epoch: (1/1) | Experience: (2/4) | Vocab size: 10000\n"
          ]
        },
        {
          "output_type": "stream",
          "name": "stderr",
          "text": [
            "100%|██████████| 13238/13238 [00:56<00:00, 233.45it/s]\n"
          ]
        },
        {
          "output_type": "stream",
          "name": "stdout",
          "text": [
            "0\n",
            "[Train] Loss: 0.6927\n",
            "[Eval]  Loss:: 0.6416\n",
            "[0.004999999999999999]\n",
            "----------------------------------------------------------\n",
            "\n",
            "Epoch: (1/1) | Experience: (3/4) | Vocab size: 15000\n"
          ]
        },
        {
          "output_type": "stream",
          "name": "stderr",
          "text": [
            "100%|██████████| 13238/13238 [00:56<00:00, 235.59it/s]\n"
          ]
        },
        {
          "output_type": "stream",
          "name": "stdout",
          "text": [
            "0\n",
            "[Train] Loss: 0.5851\n",
            "[Eval]  Loss:: 0.5204\n",
            "[0.00782842712474619]\n",
            "----------------------------------------------------------\n",
            "\n",
            "Epoch: (1/1) | Experience: (4/4) | Vocab size: 20000\n"
          ]
        },
        {
          "output_type": "stream",
          "name": "stderr",
          "text": [
            "100%|██████████| 13238/13238 [00:55<00:00, 238.26it/s]\n"
          ]
        },
        {
          "output_type": "stream",
          "name": "stdout",
          "text": [
            "0\n",
            "[Train] Loss: 0.5107\n",
            "[Eval]  Loss:: 0.4697\n",
            "[0.009]\n"
          ]
        }
      ],
      "source": [
        "'''\n",
        "1. Train the model with curriculum learning\n",
        "2. Use the same loss function and optimizer as we used for the non-curriculum learning model\n",
        "3. Use the same learning rate scheduler as we used for the non-curriculum learning model\n",
        "4. Use the same validation function as we used for the non-curriculum learning model\n",
        "5. Use the same training function as we used for the non-curriculum learning model\n",
        "'''\n",
        "\n",
        "epochs = 1\n",
        "ranks_cl = []\n",
        "experiences = 4\n",
        "vocab_init = 5000\n",
        "\n",
        "print('Training with Curriculum Learning')\n",
        "for exp in range(experiences):\n",
        "  vocab_step = vocab_init * (1+exp)\n",
        "  data_loader.dataset.vocab_len = vocab_step\n",
        "\n",
        "  print('----------------------------------------------------------')\n",
        "\n",
        "  for epoch in range(epochs):\n",
        "    print(f'\\nEpoch: ({epoch + 1}/{epochs}) | Experience: ({exp+1}/{experiences}) | Vocab size: {vocab_step}')\n",
        "    train(train_loader[exp], model_curriculum, optimizer, loss_fn, 5000*(1+exp), vocab_step)\n",
        "    ranks_cl.append(evaluate(data_loader_valid, model_curriculum, loss_fn))\n",
        "    scheduler.step()\n",
        "    print(scheduler.get_last_lr())"
      ]
    },
    {
      "cell_type": "code",
      "execution_count": null,
      "metadata": {
        "colab": {
          "base_uri": "https://localhost:8080/",
          "height": 449
        },
        "id": "PLeVX02PqEOr",
        "outputId": "eaef7154-2605-4b04-b306-65fa012e61ca",
        "pycharm": {
          "is_executing": true
        }
      },
      "outputs": [
        {
          "output_type": "display_data",
          "data": {
            "text/plain": [
              "<Figure size 640x480 with 1 Axes>"
            ],
            "image/png": "[encoded data removed]"
          },
          "metadata": {}
        }
      ],
      "source": [
        "fig, ax = plt.subplots()\n",
        "\n",
        "x_cord = range(0, len(ranks_cl))\n",
        "ax.plot(x_cord, ranks_cl)\n",
        "\n",
        "ax.set_xlabel('Number of updates')\n",
        "ax.set_ylabel('Log of rank')\n",
        "plt.show()"
      ]
    },
    {
      "cell_type": "code",
      "execution_count": null,
      "metadata": {
        "colab": {
          "base_uri": "https://localhost:8080/",
          "height": 449
        },
        "id": "WO252ufb-3bt",
        "outputId": "74723ca1-e56c-483d-808f-ff68f2bc723f"
      },
      "outputs": [
        {
          "output_type": "display_data",
          "data": {
            "text/plain": [
              "<Figure size 640x480 with 1 Axes>"
            ],
            "image/png": "[encoded data removed]"
          },
          "metadata": {}
        }
      ],
      "source": [
        "### Plotting the results\n",
        "\n",
        "fig, ax = plt.subplots()\n",
        "import numpy as np\n",
        "x_cord_collect = range(0, len(collect_ranks))\n",
        "plt.plot(x_cord_collect, collect_ranks, label='Without Curriculum')\n",
        "#plt.plot(y1, collect_ranks, label='Without Curriculum')\n",
        "\n",
        "x_cord_ranks = range(0, len(ranks_cl))\n",
        "plt.plot(x_cord_ranks, ranks_cl, label='With Curriculum')\n",
        "#plt.plot(y, ranks_cl, label='With Curriculum')\n",
        "\n",
        "#x= np.arange(1690986, 15218874, 1690986)\n",
        "#ame = ['1.6M', '3.2M', '4.8M', '6.4M', '8M', '9.6M', '11.2M', '12.8M']\n",
        "#plt.xticks(x, name)\n",
        "#plt.xticks(x)\n",
        "ax.set_xlabel('Number of updates')\n",
        "ax.set_ylabel('Log of rank')\n",
        "\n",
        "plt.legend()\n",
        "\n",
        "plt.show()"
      ]
    },
    {
      "cell_type": "code",
      "execution_count": null,
      "metadata": {
        "id": "XcK-FOcN-3bt"
      },
      "outputs": [],
      "source": [
        "### LSTM model\n",
        "with open(\"wiki.train_.txt\", \"r\") as file:\n",
        "    train_data = file.readlines()\n",
        "with open(\"wiki.valid_.txt\", \"r\") as file:\n",
        "    val_data = file.readlines()"
      ]
    },
    {
      "cell_type": "code",
      "execution_count": null,
      "metadata": {
        "id": "8J2jeOlM-3bt"
      },
      "outputs": [],
      "source": [
        "tokenizer = get_tokenizer('basic_english')\n",
        "#train_words = tokenizer(train_data)\n",
        "#train_words[:10]\n",
        "from torch.nn.functional import one_hot\n",
        "\n",
        "class Vocabulary(Dataset):\n",
        "  def __init__(self, wikidata, tokenizer):\n",
        "    self.tokenizer = tokenizer\n",
        "    self.wikidata = wikidata\n",
        "\n",
        "    # actual length of train vocab is 66057\n",
        "\n",
        "    self.corpus_vocab = build_vocab_from_iterator(map(self.tokenizer, wikidata), max_tokens= 28000)\n",
        "    self.corpus_vocab.set_default_index(0)\n",
        "\n",
        "  def word_to_idx(self, word):\n",
        "    return self.corpus_vocab.get_stoi()[word]\n",
        "\n",
        "  def idx_to_word(self, idx):\n",
        "    return self.corpus_vocab.get_itos()[idx]\n",
        "\n",
        "  def __len__(self):\n",
        "    return len(self.corpus_vocab)\n",
        "\n",
        "def data_process(vocabulary, raw_text_iter: dataset.IterableDataset) -> Tensor:\n",
        "    data = [torch.tensor(vocabulary.corpus_vocab(tokenizer(item)), dtype=torch.long) for item in raw_text_iter]\n",
        "\n",
        "    return torch.cat(tuple(filter(lambda t: bool(t.numel()), data)))\n",
        "\n",
        "class Wikipedia_Dataloader(Dataset):\n",
        "  def __init__(self, corpus, vocab_len):\n",
        "    self.corpus = corpus\n",
        "    self.vocab_len =  vocab_len\n",
        "    self.seq_len = 32\n",
        "\n",
        "  def __len__(self):\n",
        "    return len(self.corpus)\n",
        "\n",
        "  def __getitem__(self, idx):\n",
        "    x = self.corpus[idx : idx + self.seq_len]\n",
        "    y= self.corpus[idx + self.seq_len]\n",
        "    #y = one_hot(y, num_classes=20000)\n",
        "\n",
        "    return x, y\n",
        "\n",
        "vocabulary = Vocabulary(train_data, tokenizer)\n",
        "train_iter = data_process(vocabulary, train_data)\n",
        "wiki_data_train = Wikipedia_Dataloader(train_iter, 20000)\n",
        "data_loader = DataLoader(wiki_data_train, batch_size= 128, drop_last=True)\n",
        "len(vocabulary)\n",
        "#vocabulary_v = Vocabulary(valid_data, tokenizer)\n",
        "val_iter = data_process( vocabulary, val_data)\n",
        "wiki_data_valid = Wikipedia_Dataloader(val_iter, 20000)\n",
        "data_loader_valid = DataLoader(wiki_data_valid, batch_size= 128, drop_last=True)\n",
        "\n",
        "def validate_window(x_, y_, vocab_size) -> Tuple[Tensor, Tensor]:\n",
        "    #print(vocab_size)\n",
        "    condition = torch.all(torch.lt(x_, vocab_size), dim=1)\n",
        "    indices = torch.nonzero(condition)\n",
        "    #print(indices)\n",
        "    #print(condition)\n",
        "\n",
        "    if len(indices) == 0:\n",
        "        return torch.tensor([]), torch.tensor([])\n",
        "\n",
        "    x_ = torch.index_select(x_, 0, indices.flatten())\n",
        "    y_ = torch.index_select(y_, 0, indices.flatten())\n",
        "\n",
        "    return x_, y_"
      ]
    },
    {
      "cell_type": "code",
      "execution_count": null,
      "metadata": {
        "colab": {
          "base_uri": "https://localhost:8080/"
        },
        "id": "yu5aSMoH-3bu",
        "outputId": "aa5ec178-77b4-46f3-893d-54921da72c4a"
      },
      "outputs": [
        {
          "output_type": "stream",
          "name": "stdout",
          "text": [
            "Number of available GPUs: 1\n",
            "GPU 0: Tesla T4\n"
          ]
        }
      ],
      "source": [
        "if torch.cuda.is_available():\n",
        "    print(f\"Number of available GPUs: {torch.cuda.device_count()}\")\n",
        "    for i in range(torch.cuda.device_count()):\n",
        "        print(f\"GPU {i}: {torch.cuda.get_device_name(i)}\")\n",
        "else:\n",
        "    print(\"No GPU available\")\n",
        "\n",
        "# Set the correct device index (assuming the first GPU is available)\n",
        "device = torch.device(0 if torch.cuda.is_available() else 'cpu')\n",
        "\n",
        "class My_LSTM(nn.Module):\n",
        "    def __init__(self, features_vocab_total_words, target_vocab_total_words, embedding_dim, hidden_dim):\n",
        "        super(My_LSTM, self).__init__()\n",
        "        self.embedding = nn.Embedding(features_vocab_total_words, embedding_dim)\n",
        "        self.lstm = nn.LSTM(embedding_dim, hidden_dim, batch_first=True)\n",
        "        #self.dropout = nn.Dropout(0.5)\n",
        "        self.fc = nn.Linear(hidden_dim, target_vocab_total_words)\n",
        "\n",
        "    def forward(self, x):\n",
        "        x = x.to(self.embedding.weight.device)\n",
        "        embedded = self.embedding(x)\n",
        "        lstm_out, _ = self.lstm(embedded)\n",
        "        #lstm_out = self.dropout(lstm_out)\n",
        "        output = self.fc(lstm_out[:, -1, :])\n",
        "        return output\n",
        "\n",
        "embedding_dim = 128\n",
        "hidden_dim = 256\n",
        "epochs = 5\n",
        "model = My_LSTM(len(vocabulary),len(vocabulary), embedding_dim=128, hidden_dim=256).to(device)\n",
        "optimizer = torch.optim.SGD(model.parameters(), lr=1e-3)\n",
        "scheduler = torch.optim.lr_scheduler.CosineAnnealingLR(optimizer, T_max=4, eta_min=9e-3)"
      ]
    },
    {
      "cell_type": "code",
      "execution_count": null,
      "metadata": {
        "colab": {
          "base_uri": "https://localhost:8080/"
        },
        "id": "mDXJQBiB-3bu",
        "outputId": "15e44c83-a836-47f3-9c14-ce9686d1574e"
      },
      "outputs": [
        {
          "output_type": "stream",
          "name": "stdout",
          "text": [
            "Number of available GPUs: 1\n",
            "GPU 0: Tesla T4\n"
          ]
        },
        {
          "output_type": "stream",
          "name": "stderr",
          "text": [
            "100%|██████████| 13238/13238 [01:37<00:00, 136.00it/s]\n"
          ]
        },
        {
          "output_type": "stream",
          "name": "stdout",
          "text": [
            "Epoch 1/4 Loss: 0.06288024678149852\n",
            "Epoch 1/4 Loss: 10.050655970924263\n",
            "Validation Acc: 0.08264779031949493\n",
            "Validation Loss: 9.723790736487318\n"
          ]
        },
        {
          "output_type": "stream",
          "name": "stderr",
          "text": [
            "100%|██████████| 13238/13238 [01:36<00:00, 136.96it/s]\n"
          ]
        },
        {
          "output_type": "stream",
          "name": "stdout",
          "text": [
            "Epoch 2/4 Loss: 0.07818016475874612\n",
            "Epoch 2/4 Loss: 8.768441314584882\n",
            "Validation Acc: 0.08352342128886991\n",
            "Validation Loss: 7.7680181434480735\n"
          ]
        },
        {
          "output_type": "stream",
          "name": "stderr",
          "text": [
            "100%|██████████| 13238/13238 [01:36<00:00, 136.88it/s]\n"
          ]
        },
        {
          "output_type": "stream",
          "name": "stdout",
          "text": [
            "Epoch 3/4 Loss: 0.07857066438429443\n",
            "Epoch 3/4 Loss: 7.897529574243085\n",
            "Validation Acc: 0.09408617974717076\n",
            "Validation Loss: 7.449075004858091\n"
          ]
        },
        {
          "output_type": "stream",
          "name": "stderr",
          "text": [
            "100%|██████████| 13238/13238 [01:36<00:00, 137.05it/s]\n"
          ]
        },
        {
          "output_type": "stream",
          "name": "stdout",
          "text": [
            "Epoch 4/4 Loss: 0.08109732177882387\n",
            "Epoch 4/4 Loss: 7.667560415373123\n",
            "Validation Acc: 0.10138187811805566\n",
            "Validation Loss: 7.2802480857659555\n"
          ]
        }
      ],
      "source": [
        "if torch.cuda.is_available():\n",
        "    print(f\"Number of available GPUs: {torch.cuda.device_count()}\")\n",
        "    for i in range(torch.cuda.device_count()):\n",
        "        print(f\"GPU {i}: {torch.cuda.get_device_name(i)}\")\n",
        "else:\n",
        "    print(\"No GPU available\")\n",
        "\n",
        "# Set the correct device index (assuming the first GPU is available)\n",
        "result = []\n",
        "device = torch.device(0 if torch.cuda.is_available() else 'cpu')\n",
        "loss_fn = nn.CrossEntropyLoss()\n",
        "epochs = 4\n",
        "for e in range(epochs):\n",
        "    losses = 0.0\n",
        "    total = 0.0\n",
        "    correct = 0.0\n",
        "    correct_v = 0.0\n",
        "    total_v = 0.0\n",
        "    model.train()\n",
        "    for i, batch in enumerate(tqdm(data_loader)):\n",
        "        x, y = batch\n",
        "        x, y = x.to(device), y.to(device)\n",
        "        x,y = validate_window(x, y, 20000)\n",
        "        if x.numel() == 0:\n",
        "            continue\n",
        "        y_ = one_hot(y, num_classes=len(vocabulary))\n",
        "\n",
        "        # Forward pass through the LSTM generator\n",
        "        optimizer.zero_grad()\n",
        "        outputs = model(x)\n",
        "        loss = loss_fn(outputs, y_.float())\n",
        "        loss.backward()\n",
        "        optimizer.step()\n",
        "        losses += loss.item()\n",
        "        _, pred = torch.max(outputs.data, 1)\n",
        "        correct += (pred == y).sum().item()\n",
        "        total += y.size(0)\n",
        "\n",
        "    print(f\"Epoch {e+1}/{epochs} Loss: {correct/total}\")\n",
        "    print(f\"Epoch {e+1}/{epochs} Loss: {losses/len(data_loader)}\")\n",
        "    with torch.no_grad():\n",
        "        losses = 0.0\n",
        "        model.eval()\n",
        "        for i, batch in enumerate(data_loader_valid):\n",
        "            x, y = batch\n",
        "            x, y = x.to(device), y.to(device)\n",
        "            x,y = validate_window(x, y, 20000)\n",
        "            if x.numel() == 0:\n",
        "                continue\n",
        "            y_ = one_hot(y, num_classes=len(vocabulary))\n",
        "            outputs = model(x)\n",
        "            loss = loss_fn(outputs, y_.float())\n",
        "            losses += loss.item()\n",
        "            _, pred_v = torch.max(outputs.data, 1)\n",
        "            correct_v += (pred_v == y).sum().item()\n",
        "            total_v += y.size(0)\n",
        "        print(f\"Validation Acc: {correct_v/total_v}\")\n",
        "        print(f\"Validation Loss: {losses/len(data_loader_valid)}\")\n",
        "        result.append(losses/len(data_loader_valid))\n",
        "    #scheduler.step()\n",
        "\n",
        "\n",
        "#pred.shape"
      ]
    },
    {
      "cell_type": "code",
      "execution_count": null,
      "metadata": {
        "id": "nlWQzEhV-3bv"
      },
      "outputs": [],
      "source": [
        "train_loader = []\n",
        "for i in range(4):\n",
        "    vocabulary = Vocabulary(train_data, tokenizer)\n",
        "    train_iter = data_process(vocabulary, train_data)\n",
        "    wiki_data_train = Wikipedia_Dataloader(train_iter, 5000*(i+1))\n",
        "    loader = DataLoader(wiki_data_train, batch_size= 128, drop_last=True)\n",
        "    train_loader.append(loader)\n",
        "    len(vocabulary)\n",
        "#vocabulary_v = Vocabulary(valid_data, tokenizer)\n",
        "val_iter = data_process( vocabulary, val_data)\n",
        "wiki_data_valid = Wikipedia_Dataloader(val_iter, 20000)\n",
        "data_loader_valid = DataLoader(wiki_data_valid, batch_size= 128, drop_last=True)"
      ]
    },
    {
      "cell_type": "code",
      "execution_count": null,
      "metadata": {
        "colab": {
          "base_uri": "https://localhost:8080/"
        },
        "id": "bCrOCo0w-3bv",
        "outputId": "95ad4dd9-3b3f-4328-e855-6119b45e0a61"
      },
      "outputs": [
        {
          "output_type": "stream",
          "name": "stdout",
          "text": [
            "Number of available GPUs: 1\n",
            "GPU 0: Tesla T4\n"
          ]
        },
        {
          "output_type": "stream",
          "name": "stderr",
          "text": [
            "100%|██████████| 13238/13238 [00:29<00:00, 445.86it/s]\n"
          ]
        },
        {
          "output_type": "stream",
          "name": "stdout",
          "text": [
            "Epoch 1/1 Loss: 0.02158597452206346\n",
            "Epoch 1/1 Loss: 3.2692719731991486\n",
            "Validation Acc: 0.07828067283778016\n",
            "Validation Loss: 10.118127058443363\n",
            "Validation Loss: 10.118127058443363\n"
          ]
        },
        {
          "output_type": "stream",
          "name": "stderr",
          "text": [
            "100%|██████████| 13238/13238 [00:59<00:00, 223.24it/s]\n"
          ]
        },
        {
          "output_type": "stream",
          "name": "stdout",
          "text": [
            "Epoch 1/1 Loss: 0.07952731425291618\n",
            "Epoch 1/1 Loss: 7.79747265927614\n",
            "Validation Acc: 0.08264779031949493\n",
            "Validation Loss: 7.832868616137884\n",
            "Validation Loss: 7.832868616137884\n"
          ]
        },
        {
          "output_type": "stream",
          "name": "stderr",
          "text": [
            "100%|██████████| 13238/13238 [01:19<00:00, 166.75it/s]\n"
          ]
        },
        {
          "output_type": "stream",
          "name": "stdout",
          "text": [
            "Epoch 1/1 Loss: 0.08271968513116297\n",
            "Epoch 1/1 Loss: 7.504315983710611\n",
            "Validation Acc: 0.1023421288869921\n",
            "Validation Loss: 7.074199363599431\n",
            "Validation Loss: 7.074199363599431\n"
          ]
        },
        {
          "output_type": "stream",
          "name": "stderr",
          "text": [
            "100%|██████████| 13238/13238 [01:37<00:00, 136.33it/s]\n"
          ]
        },
        {
          "output_type": "stream",
          "name": "stdout",
          "text": [
            "Epoch 1/1 Loss: 0.09378855960914376\n",
            "Epoch 1/1 Loss: 7.228130457047916\n",
            "Validation Acc: 0.11082618357345735\n",
            "Validation Loss: 6.864901943544371\n",
            "Validation Loss: 6.864901943544371\n"
          ]
        }
      ],
      "source": [
        "if torch.cuda.is_available():\n",
        "    print(f\"Number of available GPUs: {torch.cuda.device_count()}\")\n",
        "    for i in range(torch.cuda.device_count()):\n",
        "        print(f\"GPU {i}: {torch.cuda.get_device_name(i)}\")\n",
        "else:\n",
        "    print(\"No GPU available\")\n",
        "\n",
        "# Set the correct device index (assuming the first GPU is available)\n",
        "device = torch.device(0 if torch.cuda.is_available() else 'cpu')\n",
        "loss_fn = nn.CrossEntropyLoss()\n",
        "model_ = My_LSTM(len(vocabulary),len(vocabulary), embedding_dim=128, hidden_dim=256).to(device)\n",
        "optimizer = torch.optim.SGD(model_.parameters(), lr=1e-3)\n",
        "scheduler = torch.optim.lr_scheduler.CosineAnnealingLR(optimizer, T_max=4, eta_min=9e-3)\n",
        "epochs = 1\n",
        "results = []\n",
        "for i in range(4):\n",
        "\n",
        "    for e in range(epochs):\n",
        "        losses = 0.0\n",
        "        total = 0.0\n",
        "        correct = 0.0\n",
        "        correct_v = 0.0\n",
        "        total_v = 0.0\n",
        "        model_.train()\n",
        "        for _, batch in enumerate(tqdm(train_loader[i])):\n",
        "            x, y = batch\n",
        "            x, y = x.to(device), y.to(device)\n",
        "            x,y = validate_window(x, y, 5000*(i+1))\n",
        "            if x.numel() == 0:\n",
        "                continue\n",
        "            y_ = one_hot(y, num_classes=len(vocabulary))\n",
        "\n",
        "            # Forward pass through the LSTM generator\n",
        "            optimizer.zero_grad()\n",
        "            outputs = model_(x)\n",
        "            loss = loss_fn(outputs, y_.float())\n",
        "            loss.backward()\n",
        "            optimizer.step()\n",
        "            losses += loss.item()\n",
        "            _, pred = torch.max(outputs.data, 1)\n",
        "            correct += (pred == y).sum().item()\n",
        "            total += y.size(0)\n",
        "\n",
        "        print(f\"Epoch {e+1}/{epochs} Loss: {correct/total}\")\n",
        "        print(f\"Epoch {e+1}/{epochs} Loss: {losses/len(train_loader[i])}\")\n",
        "        with torch.no_grad():\n",
        "            losses = 0.0\n",
        "            model_.eval()\n",
        "            for _, batch in enumerate(data_loader_valid):\n",
        "                x, y = batch\n",
        "                x, y = x.to(device), y.to(device)\n",
        "                x,y = validate_window(x, y, 20000)\n",
        "                if x.numel() == 0:\n",
        "                    continue\n",
        "                y_ = one_hot(y, num_classes=len(vocabulary))\n",
        "                outputs = model_(x)\n",
        "                loss = loss_fn(outputs, y_.float())\n",
        "                losses += loss.item()\n",
        "                _, pred_v = torch.max(outputs.data, 1)\n",
        "                correct_v += (pred_v == y).sum().item()\n",
        "                total_v += y.size(0)\n",
        "            print(f\"Validation Acc: {correct_v/total_v}\")\n",
        "            print(f\"Validation Loss: {losses/len(data_loader_valid)}\")\n",
        "            print(f\"Validation Loss: {losses/len(data_loader_valid)}\")\n",
        "            results.append(losses/len(data_loader_valid))\n",
        "        scheduler.step()\n",
        "\n",
        "\n",
        "#pred.shape"
      ]
    },
    {
      "cell_type": "code",
      "execution_count": null,
      "metadata": {
        "colab": {
          "base_uri": "https://localhost:8080/",
          "height": 489
        },
        "id": "gWbN7GPv-3b6",
        "outputId": "0512a90a-2d3b-432b-e304-fefed7297229"
      },
      "outputs": [
        {
          "output_type": "execute_result",
          "data": {
            "text/plain": [
              "<matplotlib.legend.Legend at 0x7bb5138eb810>"
            ]
          },
          "metadata": {},
          "execution_count": 34
        },
        {
          "output_type": "display_data",
          "data": {
            "text/plain": [
              "<Figure size 640x480 with 1 Axes>"
            ],
            "image/png": "[encoded data removed]"
          },
          "metadata": {}
        }
      ],
      "source": [
        "plt.plot(results, label= 'With Curriculum Learning')\n",
        "plt.plot(result, label= 'Without Curriculum Learning')\n",
        "plt.xlabel('Epochs')\n",
        "plt.ylabel('Loss')\n",
        "plt.title('Loss vs Epochs')\n",
        "plt.legend()"
      ]
    }
  ],
  "metadata": {
    "accelerator": "GPU",
    "colab": {
      "provenance": [],
      "include_colab_link": true
    },
    "gpuClass": "standard",
    "kernelspec": {
      "display_name": "Python 3 (ipykernel)",
      "language": "python",
      "name": "python3"
    },
    "language_info": {
      "codemirror_mode": {
        "name": "ipython",
        "version": 3
      },
      "file_extension": ".py",
      "mimetype": "text/x-python",
      "name": "python",
      "nbconvert_exporter": "python",
      "pygments_lexer": "ipython3",
      "version": "3.10.12"
    }
  },
  "nbformat": 4,
  "nbformat_minor": 0
}